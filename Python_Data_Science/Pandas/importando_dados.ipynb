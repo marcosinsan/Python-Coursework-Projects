{
 "metadata": {
  "language_info": {
   "codemirror_mode": {
    "name": "ipython",
    "version": 3
   },
   "file_extension": ".py",
   "mimetype": "text/x-python",
   "name": "python",
   "nbconvert_exporter": "python",
   "pygments_lexer": "ipython3",
   "version": "3.6.5"
  },
  "orig_nbformat": 2,
  "kernelspec": {
   "name": "python365jvsc74a57bd081ecd570e67d4aca422846dd87489a7eae0528aea0d07b3040a39253a01da185",
   "display_name": "Python 3.6.5 64-bit (conda)"
  }
 },
 "nbformat": 4,
 "nbformat_minor": 2,
 "cells": [
  {
   "source": [
    "# Trabalhando com vários tipos de dados"
   ],
   "cell_type": "markdown",
   "metadata": {}
  },
  {
   "cell_type": "code",
   "execution_count": 6,
   "metadata": {},
   "outputs": [],
   "source": [
    "# importando pandas\n",
    "import pandas as pd"
   ]
  },
  {
   "source": [
    "### Abrindo/Lendo arquivo json e importando"
   ],
   "cell_type": "markdown",
   "metadata": {}
  },
  {
   "cell_type": "code",
   "execution_count": 7,
   "metadata": {},
   "outputs": [
    {
     "output_type": "stream",
     "name": "stdout",
     "text": [
      "[{\"Tipo\":\"Quitinete\",\"Bairro\":\"Copacabana\",\"Quartos\":1,\"Vagas\":0,\"Suites\":0,\"Area\":40,\"Valor\":1700.0,\"Condominio\":500.0,\"IPTU\":60.0},\n{\"Tipo\":\"Casa\",\"Bairro\":\"Jardim Bot\\u00e2nico\",\"Quartos\":2,\"Vagas\":0,\"Suites\":1,\"Area\":100,\"Valor\":7000.0,\"Condominio\":null,\"IPTU\":null},\n{\"Tipo\":\"Conjunto Comercial\\/Sala\",\"Bairro\":\"Barra da Tijuca\",\"Quartos\":0,\"Vagas\":4,\"Suites\":0,\"Area\":150,\"Valor\":5200.0,\"Condominio\":4020.0,\"IPTU\":1111.0},\n{\"Tipo\":\"Apartamento\",\"Bairro\":\"Centro\",\"Quartos\":1,\"Vagas\":0,\"Suites\":0,\"Area\":15,\"Valor\":800.0,\"Condominio\":390.0,\"IPTU\":20.0},\n{\"Tipo\":\"Apartamento\",\"Bairro\":\"Higien\\u00f3polis\",\"Quartos\":1,\"Vagas\":0,\"Suites\":0,\"Area\":48,\"Valor\":800.0,\"Condominio\":230.0,\"IPTU\":null},\n{\"Tipo\":\"Apartamento\",\"Bairro\":\"Vista Alegre\",\"Quartos\":3,\"Vagas\":1,\"Suites\":0,\"Area\":70,\"Valor\":1200.0,\"Condominio\":null,\"IPTU\":null},\n{\"Tipo\":\"Apartamento\",\"Bairro\":\"Cachambi\",\"Quartos\":2,\"Vagas\":0,\"Suites\":0,\"Area\":50,\"Valor\":1300.0,\"Condominio\":301.0,\"IPTU\":17.0},\n{\"Tipo\":\"Casa de Condom\\u00ednio\",\"Bairro\":\"Barra da Tijuca\",\"Quartos\":5,\"Vagas\":4,\"Suites\":5,\"Area\":750,\"Valor\":22000.0,\"Condominio\":null,\"IPTU\":null},\n{\"Tipo\":\"Casa de Condom\\u00ednio\",\"Bairro\":\"Ramos\",\"Quartos\":2,\"Vagas\":2,\"Suites\":0,\"Area\":65,\"Valor\":1000.0,\"Condominio\":null,\"IPTU\":null},\n{\"Tipo\":\"Conjunto Comercial\\/Sala\",\"Bairro\":\"Centro\",\"Quartos\":0,\"Vagas\":3,\"Suites\":0,\"Area\":695,\"Valor\":35000.0,\"Condominio\":19193.0,\"IPTU\":3030.0}]\n"
     ]
    }
   ],
   "source": [
    "json = open('dados/aluguel.json')\n",
    "print(json.read())"
   ]
  },
  {
   "cell_type": "code",
   "execution_count": 8,
   "metadata": {},
   "outputs": [
    {
     "output_type": "execute_result",
     "data": {
      "text/plain": [
       "   Area           Bairro  Condominio  IPTU  Quartos  Suites       Tipo  Vagas  \\\n",
       "0    40       Copacabana       500.0  60.0        1       0  Quitinete      0   \n",
       "1   100  Jardim Botânico         NaN   NaN        2       1       Casa      0   \n",
       "\n",
       "   Valor  \n",
       "0   1700  \n",
       "1   7000  "
      ],
      "text/html": "<div>\n<style scoped>\n    .dataframe tbody tr th:only-of-type {\n        vertical-align: middle;\n    }\n\n    .dataframe tbody tr th {\n        vertical-align: top;\n    }\n\n    .dataframe thead th {\n        text-align: right;\n    }\n</style>\n<table border=\"1\" class=\"dataframe\">\n  <thead>\n    <tr style=\"text-align: right;\">\n      <th></th>\n      <th>Area</th>\n      <th>Bairro</th>\n      <th>Condominio</th>\n      <th>IPTU</th>\n      <th>Quartos</th>\n      <th>Suites</th>\n      <th>Tipo</th>\n      <th>Vagas</th>\n      <th>Valor</th>\n    </tr>\n  </thead>\n  <tbody>\n    <tr>\n      <th>0</th>\n      <td>40</td>\n      <td>Copacabana</td>\n      <td>500.0</td>\n      <td>60.0</td>\n      <td>1</td>\n      <td>0</td>\n      <td>Quitinete</td>\n      <td>0</td>\n      <td>1700</td>\n    </tr>\n    <tr>\n      <th>1</th>\n      <td>100</td>\n      <td>Jardim Botânico</td>\n      <td>NaN</td>\n      <td>NaN</td>\n      <td>2</td>\n      <td>1</td>\n      <td>Casa</td>\n      <td>0</td>\n      <td>7000</td>\n    </tr>\n  </tbody>\n</table>\n</div>"
     },
     "metadata": {},
     "execution_count": 8
    }
   ],
   "source": [
    "# Importando arquivo json\n",
    "df_json = pd.read_json('dados/aluguel.json')\n",
    "df_json.head(2)"
   ]
  },
  {
   "source": [
    "### Abrindo/Lendo arquivo .txt e importando"
   ],
   "cell_type": "markdown",
   "metadata": {}
  },
  {
   "cell_type": "code",
   "execution_count": 9,
   "metadata": {},
   "outputs": [
    {
     "output_type": "stream",
     "name": "stdout",
     "text": [
      "Tipo\tBairro\tQuartos\tVagas\tSuites\tArea\tValor\tCondominio\tIPTU\nQuitinete\tCopacabana\t1\t0\t0\t40\t1700\t500\t60\nCasa\tJardim Botânico\t2\t0\t1\t100\t7000\t\t\nConjunto Comercial/Sala\tBarra da Tijuca\t0\t4\t0\t150\t5200\t4020\t1111\nApartamento\tCentro\t1\t0\t0\t15\t800\t390\t20\nApartamento\tHigienópolis\t1\t0\t0\t48\t800\t230\t\nApartamento\tVista Alegre\t3\t1\t0\t70\t1200\t\t\nApartamento\tCachambi\t2\t0\t0\t50\t1300\t301\t17\nCasa de Condomínio\tBarra da Tijuca\t5\t4\t5\t750\t22000\t\t\nCasa de Condomínio\tRamos\t2\t2\t0\t65\t1000\t\t\nConjunto Comercial/Sala\tCentro\t0\t3\t0\t695\t35000\t19193\t3030\n\n"
     ]
    }
   ],
   "source": [
    "txt = open('dados/aluguel.txt', encoding='UTF-8')\n",
    "print(txt.read())"
   ]
  },
  {
   "cell_type": "code",
   "execution_count": 10,
   "metadata": {},
   "outputs": [
    {
     "output_type": "execute_result",
     "data": {
      "text/plain": [
       "                      Tipo           Bairro  Quartos  Vagas  Suites  Area  \\\n",
       "0                Quitinete       Copacabana        1      0       0    40   \n",
       "1                     Casa  Jardim Botânico        2      0       1   100   \n",
       "2  Conjunto Comercial/Sala  Barra da Tijuca        0      4       0   150   \n",
       "3              Apartamento           Centro        1      0       0    15   \n",
       "4              Apartamento     Higienópolis        1      0       0    48   \n",
       "5              Apartamento     Vista Alegre        3      1       0    70   \n",
       "6              Apartamento         Cachambi        2      0       0    50   \n",
       "7       Casa de Condomínio  Barra da Tijuca        5      4       5   750   \n",
       "8       Casa de Condomínio            Ramos        2      2       0    65   \n",
       "9  Conjunto Comercial/Sala           Centro        0      3       0   695   \n",
       "\n",
       "   Valor  Condominio    IPTU  \n",
       "0   1700       500.0    60.0  \n",
       "1   7000         NaN     NaN  \n",
       "2   5200      4020.0  1111.0  \n",
       "3    800       390.0    20.0  \n",
       "4    800       230.0     NaN  \n",
       "5   1200         NaN     NaN  \n",
       "6   1300       301.0    17.0  \n",
       "7  22000         NaN     NaN  \n",
       "8   1000         NaN     NaN  \n",
       "9  35000     19193.0  3030.0  "
      ],
      "text/html": "<div>\n<style scoped>\n    .dataframe tbody tr th:only-of-type {\n        vertical-align: middle;\n    }\n\n    .dataframe tbody tr th {\n        vertical-align: top;\n    }\n\n    .dataframe thead th {\n        text-align: right;\n    }\n</style>\n<table border=\"1\" class=\"dataframe\">\n  <thead>\n    <tr style=\"text-align: right;\">\n      <th></th>\n      <th>Tipo</th>\n      <th>Bairro</th>\n      <th>Quartos</th>\n      <th>Vagas</th>\n      <th>Suites</th>\n      <th>Area</th>\n      <th>Valor</th>\n      <th>Condominio</th>\n      <th>IPTU</th>\n    </tr>\n  </thead>\n  <tbody>\n    <tr>\n      <th>0</th>\n      <td>Quitinete</td>\n      <td>Copacabana</td>\n      <td>1</td>\n      <td>0</td>\n      <td>0</td>\n      <td>40</td>\n      <td>1700</td>\n      <td>500.0</td>\n      <td>60.0</td>\n    </tr>\n    <tr>\n      <th>1</th>\n      <td>Casa</td>\n      <td>Jardim Botânico</td>\n      <td>2</td>\n      <td>0</td>\n      <td>1</td>\n      <td>100</td>\n      <td>7000</td>\n      <td>NaN</td>\n      <td>NaN</td>\n    </tr>\n    <tr>\n      <th>2</th>\n      <td>Conjunto Comercial/Sala</td>\n      <td>Barra da Tijuca</td>\n      <td>0</td>\n      <td>4</td>\n      <td>0</td>\n      <td>150</td>\n      <td>5200</td>\n      <td>4020.0</td>\n      <td>1111.0</td>\n    </tr>\n    <tr>\n      <th>3</th>\n      <td>Apartamento</td>\n      <td>Centro</td>\n      <td>1</td>\n      <td>0</td>\n      <td>0</td>\n      <td>15</td>\n      <td>800</td>\n      <td>390.0</td>\n      <td>20.0</td>\n    </tr>\n    <tr>\n      <th>4</th>\n      <td>Apartamento</td>\n      <td>Higienópolis</td>\n      <td>1</td>\n      <td>0</td>\n      <td>0</td>\n      <td>48</td>\n      <td>800</td>\n      <td>230.0</td>\n      <td>NaN</td>\n    </tr>\n    <tr>\n      <th>5</th>\n      <td>Apartamento</td>\n      <td>Vista Alegre</td>\n      <td>3</td>\n      <td>1</td>\n      <td>0</td>\n      <td>70</td>\n      <td>1200</td>\n      <td>NaN</td>\n      <td>NaN</td>\n    </tr>\n    <tr>\n      <th>6</th>\n      <td>Apartamento</td>\n      <td>Cachambi</td>\n      <td>2</td>\n      <td>0</td>\n      <td>0</td>\n      <td>50</td>\n      <td>1300</td>\n      <td>301.0</td>\n      <td>17.0</td>\n    </tr>\n    <tr>\n      <th>7</th>\n      <td>Casa de Condomínio</td>\n      <td>Barra da Tijuca</td>\n      <td>5</td>\n      <td>4</td>\n      <td>5</td>\n      <td>750</td>\n      <td>22000</td>\n      <td>NaN</td>\n      <td>NaN</td>\n    </tr>\n    <tr>\n      <th>8</th>\n      <td>Casa de Condomínio</td>\n      <td>Ramos</td>\n      <td>2</td>\n      <td>2</td>\n      <td>0</td>\n      <td>65</td>\n      <td>1000</td>\n      <td>NaN</td>\n      <td>NaN</td>\n    </tr>\n    <tr>\n      <th>9</th>\n      <td>Conjunto Comercial/Sala</td>\n      <td>Centro</td>\n      <td>0</td>\n      <td>3</td>\n      <td>0</td>\n      <td>695</td>\n      <td>35000</td>\n      <td>19193.0</td>\n      <td>3030.0</td>\n    </tr>\n  </tbody>\n</table>\n</div>"
     },
     "metadata": {},
     "execution_count": 10
    }
   ],
   "source": [
    "df_txt = pd.read_table('dados/aluguel.txt')\n",
    "df_txt"
   ]
  },
  {
   "source": [
    "### Importando arquivos do tipo xlsx"
   ],
   "cell_type": "markdown",
   "metadata": {}
  },
  {
   "cell_type": "code",
   "execution_count": 12,
   "metadata": {},
   "outputs": [
    {
     "output_type": "execute_result",
     "data": {
      "text/plain": [
       "                      Tipo           Bairro  Quartos  Vagas  Suites  Area  \\\n",
       "0                Quitinete       Copacabana        1      0       0    40   \n",
       "1                     Casa  Jardim Botânico        2      0       1   100   \n",
       "2  Conjunto Comercial/Sala  Barra da Tijuca        0      4       0   150   \n",
       "3              Apartamento           Centro        1      0       0    15   \n",
       "4              Apartamento     Higienópolis        1      0       0    48   \n",
       "5              Apartamento     Vista Alegre        3      1       0    70   \n",
       "6              Apartamento         Cachambi        2      0       0    50   \n",
       "7       Casa de Condomínio  Barra da Tijuca        5      4       5   750   \n",
       "8       Casa de Condomínio            Ramos        2      2       0    65   \n",
       "9  Conjunto Comercial/Sala           Centro        0      3       0   695   \n",
       "\n",
       "   Valor  Condominio    IPTU  \n",
       "0   1700       500.0    60.0  \n",
       "1   7000         NaN     NaN  \n",
       "2   5200      4020.0  1111.0  \n",
       "3    800       390.0    20.0  \n",
       "4    800       230.0     NaN  \n",
       "5   1200         NaN     NaN  \n",
       "6   1300       301.0    17.0  \n",
       "7  22000         NaN     NaN  \n",
       "8   1000         NaN     NaN  \n",
       "9  35000     19193.0  3030.0  "
      ],
      "text/html": "<div>\n<style scoped>\n    .dataframe tbody tr th:only-of-type {\n        vertical-align: middle;\n    }\n\n    .dataframe tbody tr th {\n        vertical-align: top;\n    }\n\n    .dataframe thead th {\n        text-align: right;\n    }\n</style>\n<table border=\"1\" class=\"dataframe\">\n  <thead>\n    <tr style=\"text-align: right;\">\n      <th></th>\n      <th>Tipo</th>\n      <th>Bairro</th>\n      <th>Quartos</th>\n      <th>Vagas</th>\n      <th>Suites</th>\n      <th>Area</th>\n      <th>Valor</th>\n      <th>Condominio</th>\n      <th>IPTU</th>\n    </tr>\n  </thead>\n  <tbody>\n    <tr>\n      <th>0</th>\n      <td>Quitinete</td>\n      <td>Copacabana</td>\n      <td>1</td>\n      <td>0</td>\n      <td>0</td>\n      <td>40</td>\n      <td>1700</td>\n      <td>500.0</td>\n      <td>60.0</td>\n    </tr>\n    <tr>\n      <th>1</th>\n      <td>Casa</td>\n      <td>Jardim Botânico</td>\n      <td>2</td>\n      <td>0</td>\n      <td>1</td>\n      <td>100</td>\n      <td>7000</td>\n      <td>NaN</td>\n      <td>NaN</td>\n    </tr>\n    <tr>\n      <th>2</th>\n      <td>Conjunto Comercial/Sala</td>\n      <td>Barra da Tijuca</td>\n      <td>0</td>\n      <td>4</td>\n      <td>0</td>\n      <td>150</td>\n      <td>5200</td>\n      <td>4020.0</td>\n      <td>1111.0</td>\n    </tr>\n    <tr>\n      <th>3</th>\n      <td>Apartamento</td>\n      <td>Centro</td>\n      <td>1</td>\n      <td>0</td>\n      <td>0</td>\n      <td>15</td>\n      <td>800</td>\n      <td>390.0</td>\n      <td>20.0</td>\n    </tr>\n    <tr>\n      <th>4</th>\n      <td>Apartamento</td>\n      <td>Higienópolis</td>\n      <td>1</td>\n      <td>0</td>\n      <td>0</td>\n      <td>48</td>\n      <td>800</td>\n      <td>230.0</td>\n      <td>NaN</td>\n    </tr>\n    <tr>\n      <th>5</th>\n      <td>Apartamento</td>\n      <td>Vista Alegre</td>\n      <td>3</td>\n      <td>1</td>\n      <td>0</td>\n      <td>70</td>\n      <td>1200</td>\n      <td>NaN</td>\n      <td>NaN</td>\n    </tr>\n    <tr>\n      <th>6</th>\n      <td>Apartamento</td>\n      <td>Cachambi</td>\n      <td>2</td>\n      <td>0</td>\n      <td>0</td>\n      <td>50</td>\n      <td>1300</td>\n      <td>301.0</td>\n      <td>17.0</td>\n    </tr>\n    <tr>\n      <th>7</th>\n      <td>Casa de Condomínio</td>\n      <td>Barra da Tijuca</td>\n      <td>5</td>\n      <td>4</td>\n      <td>5</td>\n      <td>750</td>\n      <td>22000</td>\n      <td>NaN</td>\n      <td>NaN</td>\n    </tr>\n    <tr>\n      <th>8</th>\n      <td>Casa de Condomínio</td>\n      <td>Ramos</td>\n      <td>2</td>\n      <td>2</td>\n      <td>0</td>\n      <td>65</td>\n      <td>1000</td>\n      <td>NaN</td>\n      <td>NaN</td>\n    </tr>\n    <tr>\n      <th>9</th>\n      <td>Conjunto Comercial/Sala</td>\n      <td>Centro</td>\n      <td>0</td>\n      <td>3</td>\n      <td>0</td>\n      <td>695</td>\n      <td>35000</td>\n      <td>19193.0</td>\n      <td>3030.0</td>\n    </tr>\n  </tbody>\n</table>\n</div>"
     },
     "metadata": {},
     "execution_count": 12
    }
   ],
   "source": [
    "df_xlsx = pd.read_excel('dados/aluguel.xlsx')\n",
    "df_xlsx"
   ]
  },
  {
   "source": [
    "### Importando arquivo do tipo html"
   ],
   "cell_type": "markdown",
   "metadata": {}
  },
  {
   "cell_type": "code",
   "execution_count": 13,
   "metadata": {},
   "outputs": [
    {
     "output_type": "execute_result",
     "data": {
      "text/plain": [
       "[  FAIXA ETÁRIA UNAFISCO SAÚDE SOFT II SOFT PARTICIPATIVO      UNIQUE\n",
       " 0      00 A 18               R$218,99           R$192,60    R$334,48\n",
       " 1      19 A 23               R$263,63           R$207,67    R$380,06\n",
       " 2      24 A 28               R$322,44           R$224,26    R$464,39\n",
       " 3      29 A 33               R$402,05           R$258,63    R$566,68\n",
       " 4      34 A 38               R$455,17           R$306,37    R$664,61\n",
       " 5      39 A 43               R$489,29           R$417,93    R$742,72\n",
       " 6      44 A 48               R$582,65           R$495,24    R$869,47\n",
       " 7      49 A 53               R$718,86           R$562,64  R$1.046,29\n",
       " 8      54 A 58               R$908,54           R$721,00  R$1.355,74\n",
       " 9   59 OU MAIS             R$1.244,50         R$1.151,62  R$2.003,53]"
      ]
     },
     "metadata": {},
     "execution_count": 13
    }
   ],
   "source": [
    "df_html = pd.read_html('dados/dados_html_1.html')\n",
    "df_html"
   ]
  },
  {
   "cell_type": "code",
   "execution_count": 14,
   "metadata": {},
   "outputs": [
    {
     "output_type": "execute_result",
     "data": {
      "text/plain": [
       "3"
      ]
     },
     "metadata": {},
     "execution_count": 14
    }
   ],
   "source": [
    "df_html = pd.read_html('https://www.federalreserve.gov/releases/h3/current/default.htm')\n",
    "\n",
    "#Esse DataFrame possui 3 tabela\n",
    "len(df_html)"
   ]
  },
  {
   "cell_type": "code",
   "execution_count": 14,
   "metadata": {},
   "outputs": [
    {
     "output_type": "execute_result",
     "data": {
      "text/plain": [
       "                  Date   Reserves Vault cash 2  \\\n",
       "               Total 1   Required        Total   \n",
       "0              Month 7        NaN          NaN   \n",
       "1            Aug. 2019  1586844.0     200608.0   \n",
       "2           Sept. 2019  1504805.0     199741.0   \n",
       "3            Oct. 2019  1547136.0     200621.0   \n",
       "4            Nov. 2019  1595222.0     206586.0   \n",
       "5            Dec. 2019  1698344.0     207239.0   \n",
       "6            Jan. 2020  1715219.0     214652.0   \n",
       "7            Feb. 2020  1726943.0     208324.0   \n",
       "8            Mar. 2020  2099369.0     167360.0   \n",
       "9            Apr. 2020  2953586.0          0.0   \n",
       "10            May 2020  3217635.0          0.0   \n",
       "11           June 2020  3043556.0          0.0   \n",
       "12           July 2020  2718529.0          0.0   \n",
       "13           Aug. 2020  2799719.0          0.0   \n",
       "14                 NaN        NaN          NaN   \n",
       "15  Two weeks ending 8        NaN          NaN   \n",
       "16       July 15, 2020  2795785.0          0.0   \n",
       "17       July 29, 2020  2623526.0          0.0   \n",
       "18       Aug. 12, 2020  2751124.0          0.0   \n",
       "19       Aug. 26, 2020  2821740.0          0.0   \n",
       "20       Sept. 9, 2020  2854690.0          0.0   \n",
       "\n",
       "                         Monetary base Unnamed: 4_level_0 Unnamed: 5_level_0  \\\n",
       "   Used to satisfy required reserves 3          Surplus 4            Total 5   \n",
       "0                                  NaN                NaN                NaN   \n",
       "1                              78451.0            65969.0            12483.0   \n",
       "2                              76550.0            65035.0            11516.0   \n",
       "3                              76660.0            65623.0            11037.0   \n",
       "4                              76921.0            65881.0            11040.0   \n",
       "5                              80168.0            68255.0            11914.0   \n",
       "6                              81216.0            69835.0            11381.0   \n",
       "7                              80735.0            69954.0            10781.0   \n",
       "8                              77114.0            54222.0            22892.0   \n",
       "9                              88104.0                0.0            88104.0   \n",
       "10                            101345.0                0.0           101345.0   \n",
       "11                            104201.0                0.0           104201.0   \n",
       "12                             98392.0                0.0            98392.0   \n",
       "13                             95327.0                0.0            95327.0   \n",
       "14                                 NaN                NaN                NaN   \n",
       "15                                 NaN                NaN                NaN   \n",
       "16                             99459.0                0.0            99459.0   \n",
       "17                             97225.0                0.0            97225.0   \n",
       "18                             95638.0                0.0            95638.0   \n",
       "19                             95066.0                0.0            95066.0   \n",
       "20                             95313.0                0.0            95313.0   \n",
       "\n",
       "            Unnamed: 6_level_0      Unnamed: 7_level_0 Unnamed: 8_level_0  \n",
       "   Total balances maintained 6 Currency in circulation Unnamed: 8_level_1  \n",
       "0                          NaN                     NaN                NaN  \n",
       "1                    3271378.0               1520876.0          1750502.0  \n",
       "2                    3202668.0               1439771.0          1762898.0  \n",
       "3                    3252807.0               1481513.0          1771294.0  \n",
       "4                    3315551.0               1529341.0          1786209.0  \n",
       "5                    3426464.0               1630090.0          1796375.0  \n",
       "6                    3442569.0               1645384.0          1797185.0  \n",
       "7                    3454474.0               1656989.0          1797485.0  \n",
       "8                    3883155.0               2045148.0          1838007.0  \n",
       "9                    4844940.0               2953586.0          1891355.0  \n",
       "10                   5149527.0               3217635.0          1931891.0  \n",
       "11                   5001978.0               3043556.0          1958422.0  \n",
       "12                   4700365.0               2718529.0          1981836.0  \n",
       "13                   4807394.0               2799719.0          2007675.0  \n",
       "14                         NaN                     NaN                NaN  \n",
       "15                         NaN                     NaN                NaN  \n",
       "16                   4772522.0               2795785.0          1976737.0  \n",
       "17                   4609143.0               2623526.0          1985617.0  \n",
       "18                   4750981.0               2751124.0          1999857.0  \n",
       "19                   4830999.0               2821740.0          2009260.0  \n",
       "20                   4876690.0               2854690.0          2022000.0  "
      ],
      "text/html": "<div>\n<style scoped>\n    .dataframe tbody tr th:only-of-type {\n        vertical-align: middle;\n    }\n\n    .dataframe tbody tr th {\n        vertical-align: top;\n    }\n\n    .dataframe thead tr th {\n        text-align: left;\n    }\n</style>\n<table border=\"1\" class=\"dataframe\">\n  <thead>\n    <tr>\n      <th></th>\n      <th>Date</th>\n      <th>Reserves</th>\n      <th>Vault cash 2</th>\n      <th>Monetary base</th>\n      <th>Unnamed: 4_level_0</th>\n      <th>Unnamed: 5_level_0</th>\n      <th>Unnamed: 6_level_0</th>\n      <th>Unnamed: 7_level_0</th>\n      <th>Unnamed: 8_level_0</th>\n    </tr>\n    <tr>\n      <th></th>\n      <th>Total 1</th>\n      <th>Required</th>\n      <th>Total</th>\n      <th>Used to satisfy required reserves 3</th>\n      <th>Surplus 4</th>\n      <th>Total 5</th>\n      <th>Total balances maintained 6</th>\n      <th>Currency in circulation</th>\n      <th>Unnamed: 8_level_1</th>\n    </tr>\n  </thead>\n  <tbody>\n    <tr>\n      <th>0</th>\n      <td>Month 7</td>\n      <td>NaN</td>\n      <td>NaN</td>\n      <td>NaN</td>\n      <td>NaN</td>\n      <td>NaN</td>\n      <td>NaN</td>\n      <td>NaN</td>\n      <td>NaN</td>\n    </tr>\n    <tr>\n      <th>1</th>\n      <td>Aug. 2019</td>\n      <td>1586844.0</td>\n      <td>200608.0</td>\n      <td>78451.0</td>\n      <td>65969.0</td>\n      <td>12483.0</td>\n      <td>3271378.0</td>\n      <td>1520876.0</td>\n      <td>1750502.0</td>\n    </tr>\n    <tr>\n      <th>2</th>\n      <td>Sept. 2019</td>\n      <td>1504805.0</td>\n      <td>199741.0</td>\n      <td>76550.0</td>\n      <td>65035.0</td>\n      <td>11516.0</td>\n      <td>3202668.0</td>\n      <td>1439771.0</td>\n      <td>1762898.0</td>\n    </tr>\n    <tr>\n      <th>3</th>\n      <td>Oct. 2019</td>\n      <td>1547136.0</td>\n      <td>200621.0</td>\n      <td>76660.0</td>\n      <td>65623.0</td>\n      <td>11037.0</td>\n      <td>3252807.0</td>\n      <td>1481513.0</td>\n      <td>1771294.0</td>\n    </tr>\n    <tr>\n      <th>4</th>\n      <td>Nov. 2019</td>\n      <td>1595222.0</td>\n      <td>206586.0</td>\n      <td>76921.0</td>\n      <td>65881.0</td>\n      <td>11040.0</td>\n      <td>3315551.0</td>\n      <td>1529341.0</td>\n      <td>1786209.0</td>\n    </tr>\n    <tr>\n      <th>5</th>\n      <td>Dec. 2019</td>\n      <td>1698344.0</td>\n      <td>207239.0</td>\n      <td>80168.0</td>\n      <td>68255.0</td>\n      <td>11914.0</td>\n      <td>3426464.0</td>\n      <td>1630090.0</td>\n      <td>1796375.0</td>\n    </tr>\n    <tr>\n      <th>6</th>\n      <td>Jan. 2020</td>\n      <td>1715219.0</td>\n      <td>214652.0</td>\n      <td>81216.0</td>\n      <td>69835.0</td>\n      <td>11381.0</td>\n      <td>3442569.0</td>\n      <td>1645384.0</td>\n      <td>1797185.0</td>\n    </tr>\n    <tr>\n      <th>7</th>\n      <td>Feb. 2020</td>\n      <td>1726943.0</td>\n      <td>208324.0</td>\n      <td>80735.0</td>\n      <td>69954.0</td>\n      <td>10781.0</td>\n      <td>3454474.0</td>\n      <td>1656989.0</td>\n      <td>1797485.0</td>\n    </tr>\n    <tr>\n      <th>8</th>\n      <td>Mar. 2020</td>\n      <td>2099369.0</td>\n      <td>167360.0</td>\n      <td>77114.0</td>\n      <td>54222.0</td>\n      <td>22892.0</td>\n      <td>3883155.0</td>\n      <td>2045148.0</td>\n      <td>1838007.0</td>\n    </tr>\n    <tr>\n      <th>9</th>\n      <td>Apr. 2020</td>\n      <td>2953586.0</td>\n      <td>0.0</td>\n      <td>88104.0</td>\n      <td>0.0</td>\n      <td>88104.0</td>\n      <td>4844940.0</td>\n      <td>2953586.0</td>\n      <td>1891355.0</td>\n    </tr>\n    <tr>\n      <th>10</th>\n      <td>May 2020</td>\n      <td>3217635.0</td>\n      <td>0.0</td>\n      <td>101345.0</td>\n      <td>0.0</td>\n      <td>101345.0</td>\n      <td>5149527.0</td>\n      <td>3217635.0</td>\n      <td>1931891.0</td>\n    </tr>\n    <tr>\n      <th>11</th>\n      <td>June 2020</td>\n      <td>3043556.0</td>\n      <td>0.0</td>\n      <td>104201.0</td>\n      <td>0.0</td>\n      <td>104201.0</td>\n      <td>5001978.0</td>\n      <td>3043556.0</td>\n      <td>1958422.0</td>\n    </tr>\n    <tr>\n      <th>12</th>\n      <td>July 2020</td>\n      <td>2718529.0</td>\n      <td>0.0</td>\n      <td>98392.0</td>\n      <td>0.0</td>\n      <td>98392.0</td>\n      <td>4700365.0</td>\n      <td>2718529.0</td>\n      <td>1981836.0</td>\n    </tr>\n    <tr>\n      <th>13</th>\n      <td>Aug. 2020</td>\n      <td>2799719.0</td>\n      <td>0.0</td>\n      <td>95327.0</td>\n      <td>0.0</td>\n      <td>95327.0</td>\n      <td>4807394.0</td>\n      <td>2799719.0</td>\n      <td>2007675.0</td>\n    </tr>\n    <tr>\n      <th>14</th>\n      <td>NaN</td>\n      <td>NaN</td>\n      <td>NaN</td>\n      <td>NaN</td>\n      <td>NaN</td>\n      <td>NaN</td>\n      <td>NaN</td>\n      <td>NaN</td>\n      <td>NaN</td>\n    </tr>\n    <tr>\n      <th>15</th>\n      <td>Two weeks ending 8</td>\n      <td>NaN</td>\n      <td>NaN</td>\n      <td>NaN</td>\n      <td>NaN</td>\n      <td>NaN</td>\n      <td>NaN</td>\n      <td>NaN</td>\n      <td>NaN</td>\n    </tr>\n    <tr>\n      <th>16</th>\n      <td>July 15, 2020</td>\n      <td>2795785.0</td>\n      <td>0.0</td>\n      <td>99459.0</td>\n      <td>0.0</td>\n      <td>99459.0</td>\n      <td>4772522.0</td>\n      <td>2795785.0</td>\n      <td>1976737.0</td>\n    </tr>\n    <tr>\n      <th>17</th>\n      <td>July 29, 2020</td>\n      <td>2623526.0</td>\n      <td>0.0</td>\n      <td>97225.0</td>\n      <td>0.0</td>\n      <td>97225.0</td>\n      <td>4609143.0</td>\n      <td>2623526.0</td>\n      <td>1985617.0</td>\n    </tr>\n    <tr>\n      <th>18</th>\n      <td>Aug. 12, 2020</td>\n      <td>2751124.0</td>\n      <td>0.0</td>\n      <td>95638.0</td>\n      <td>0.0</td>\n      <td>95638.0</td>\n      <td>4750981.0</td>\n      <td>2751124.0</td>\n      <td>1999857.0</td>\n    </tr>\n    <tr>\n      <th>19</th>\n      <td>Aug. 26, 2020</td>\n      <td>2821740.0</td>\n      <td>0.0</td>\n      <td>95066.0</td>\n      <td>0.0</td>\n      <td>95066.0</td>\n      <td>4830999.0</td>\n      <td>2821740.0</td>\n      <td>2009260.0</td>\n    </tr>\n    <tr>\n      <th>20</th>\n      <td>Sept. 9, 2020</td>\n      <td>2854690.0</td>\n      <td>0.0</td>\n      <td>95313.0</td>\n      <td>0.0</td>\n      <td>95313.0</td>\n      <td>4876690.0</td>\n      <td>2854690.0</td>\n      <td>2022000.0</td>\n    </tr>\n  </tbody>\n</table>\n</div>"
     },
     "metadata": {},
     "execution_count": 14
    }
   ],
   "source": [
    "# Tabela 1\n",
    "df_html[1]"
   ]
  },
  {
   "cell_type": "code",
   "execution_count": null,
   "metadata": {},
   "outputs": [],
   "source": []
  }
 ]
}