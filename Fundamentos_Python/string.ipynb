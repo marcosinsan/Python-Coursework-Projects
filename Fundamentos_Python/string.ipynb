{
 "cells": [
  {
   "cell_type": "markdown",
   "source": [
    "# Fundamentos Python - Strings\r\n",
    "\r\n",
    "> String - Uma **string** é simplismente uma série de caracteres. "
   ],
   "metadata": {}
  },
  {
   "cell_type": "markdown",
   "source": [
    "## Strings em python\r\n",
    "\r\n",
    "Tudo que estiver entre aspas é considerada uma string em python.\r\n",
    "\r\n",
    "Exemplos de strings:\r\n",
    "\r\n",
    "\"This is a string\" \r\n",
    "\r\n",
    "'This is also a string.'"
   ],
   "metadata": {}
  },
  {
   "cell_type": "markdown",
   "source": [
    "## Métodos de strings"
   ],
   "metadata": {}
  },
  {
   "cell_type": "markdown",
   "source": [
    "**title()** - Retorna a primeira letra em maiúscula e o resto minúscula."
   ],
   "metadata": {}
  },
  {
   "cell_type": "code",
   "execution_count": 2,
   "source": [
    "# Usando método title\r\n",
    "name = 'marcos santana'\r\n",
    "name.title()"
   ],
   "outputs": [
    {
     "output_type": "execute_result",
     "data": {
      "text/plain": [
       "'Marcos Santana'"
      ]
     },
     "metadata": {},
     "execution_count": 2
    }
   ],
   "metadata": {}
  },
  {
   "cell_type": "code",
   "execution_count": null,
   "source": [],
   "outputs": [],
   "metadata": {}
  }
 ],
 "metadata": {
  "orig_nbformat": 4,
  "language_info": {
   "name": "python",
   "version": "3.9.5",
   "mimetype": "text/x-python",
   "codemirror_mode": {
    "name": "ipython",
    "version": 3
   },
   "pygments_lexer": "ipython3",
   "nbconvert_exporter": "python",
   "file_extension": ".py"
  },
  "kernelspec": {
   "name": "python3",
   "display_name": "Python 3.9.5 64-bit"
  },
  "interpreter": {
   "hash": "104ab0b201326c003eb326b253436127765e9423f74595591084a446732f77fa"
  }
 },
 "nbformat": 4,
 "nbformat_minor": 2
}